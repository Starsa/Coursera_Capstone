{
  "nbformat": 4,
  "nbformat_minor": 0,
  "metadata": {
    "colab": {
      "name": "Segmenting_Clustering-Toronto-part2.ipynb",
      "provenance": [],
      "mount_file_id": "1mm0ZzZlUEUcXi-rsW0IvMSVnHqHhpoqu",
      "authorship_tag": "ABX9TyMxSiIId8sntZ6PqhdXb02e",
      "include_colab_link": true
    },
    "kernelspec": {
      "name": "python3",
      "display_name": "Python 3"
    },
    "language_info": {
      "name": "python"
    }
  },
  "cells": [
    {
      "cell_type": "markdown",
      "metadata": {
        "id": "view-in-github",
        "colab_type": "text"
      },
      "source": [
        "<a href=\"https://colab.research.google.com/github/Starsa/Coursera_Capstone/blob/main/Segmenting_Clustering_Toronto_part2.ipynb\" target=\"_parent\"><img src=\"https://colab.research.google.com/assets/colab-badge.svg\" alt=\"Open In Colab\"/></a>"
      ]
    },
    {
      "cell_type": "markdown",
      "metadata": {
        "id": "EEoxJIkSQ2-Z"
      },
      "source": [
        "##Segmenting and Clustering Neighborhoods in the city of Toronto##"
      ]
    },
    {
      "cell_type": "code",
      "metadata": {
        "colab": {
          "base_uri": "https://localhost:8080/"
        },
        "id": "SZ9F1oMXRRRr",
        "outputId": "0903d2b3-a126-4cc1-ed7d-fe448056e97f"
      },
      "source": [
        "#import required libraries\n",
        "\n",
        "import numpy as np # library to handle data in a vectorized manner\n",
        "\n",
        "import pandas as pd # library for data analsysis\n",
        "pd.set_option(\"display.max_columns\", None)\n",
        "pd.set_option(\"display.max_rows\", None)\n",
        "\n",
        "import json # library to handle JSON files\n",
        "\n",
        "from geopy.geocoders import Nominatim # convert an address into latitude and longitude values\n",
        "\n",
        "import requests # library to handle requests\n",
        "from bs4 import BeautifulSoup # library to parse HTML and XML documents\n",
        "\n",
        "from pandas.io.json import json_normalize # tranform JSON file into a pandas dataframe\n",
        "\n",
        "# Matplotlib and associated plotting modules\n",
        "import matplotlib.cm as cm\n",
        "import matplotlib.colors as colors\n",
        "\n",
        "# import k-means from clustering stage\n",
        "from sklearn.cluster import KMeans\n",
        "\n",
        "import folium # map rendering library\n",
        "\n",
        "print(\"Libraries imported.\")"
      ],
      "execution_count": 26,
      "outputs": [
        {
          "output_type": "stream",
          "text": [
            "Libraries imported.\n"
          ],
          "name": "stdout"
        }
      ]
    },
    {
      "cell_type": "markdown",
      "metadata": {
        "id": "rte9D8fwc8Vs"
      },
      "source": [
        "We will call the data and parse it using beautiful soup."
      ]
    },
    {
      "cell_type": "code",
      "metadata": {
        "id": "hUPXSWkcYGcS"
      },
      "source": [
        "# send the GET request\n",
        "data = requests.get('https://en.wikipedia.org/wiki/List_of_postal_codes_of_Canada:_M').text"
      ],
      "execution_count": 27,
      "outputs": []
    },
    {
      "cell_type": "code",
      "metadata": {
        "id": "DGA_TzvcYJT8"
      },
      "source": [
        "#parse data with Beautiful soup\n",
        "soup = BeautifulSoup(data, 'html.parser')"
      ],
      "execution_count": 28,
      "outputs": []
    },
    {
      "cell_type": "markdown",
      "metadata": {
        "id": "StdoBYKgdCkj"
      },
      "source": [
        "Now we will create a table with data and passing any row that contains \"Not assigned\"."
      ]
    },
    {
      "cell_type": "code",
      "metadata": {
        "id": "v6MTIIVnYWE_"
      },
      "source": [
        "# append the data 'table contents' passing any row with \"Not assigned\"\n",
        "table_contents=[]\n",
        "table=soup.find('table')\n",
        "for row in table.findAll('td'):\n",
        "    cell = {}\n",
        "    if row.span.text=='Not assigned':\n",
        "        pass\n",
        "    else:\n",
        "        cell['PostalCode'] = row.p.text[:3]\n",
        "        cell['Borough'] = (row.span.text).split('(')[0]\n",
        "        cell['Neighborhood'] = (((((row.span.text).split('(')[1]).strip(')')).replace(' /',',')).replace(')',' ')).strip(' ')\n",
        "        table_contents.append(cell)"
      ],
      "execution_count": 29,
      "outputs": []
    },
    {
      "cell_type": "code",
      "metadata": {
        "colab": {
          "base_uri": "https://localhost:8080/"
        },
        "id": "UAuVImb7a8kz",
        "outputId": "dac5df06-8f81-4727-c752-0a1fe8c40e51"
      },
      "source": [
        "#review table contents\n",
        "print(table_contents)"
      ],
      "execution_count": 30,
      "outputs": [
        {
          "output_type": "stream",
          "text": [
            "[{'PostalCode': 'M3A', 'Borough': 'North York', 'Neighborhood': 'Parkwoods'}, {'PostalCode': 'M4A', 'Borough': 'North York', 'Neighborhood': 'Victoria Village'}, {'PostalCode': 'M5A', 'Borough': 'Downtown Toronto', 'Neighborhood': 'Regent Park, Harbourfront'}, {'PostalCode': 'M6A', 'Borough': 'North York', 'Neighborhood': 'Lawrence Manor, Lawrence Heights'}, {'PostalCode': 'M7A', 'Borough': \"Queen's Park\", 'Neighborhood': 'Ontario Provincial Government'}, {'PostalCode': 'M9A', 'Borough': 'Etobicoke', 'Neighborhood': 'Islington Avenue'}, {'PostalCode': 'M1B', 'Borough': 'Scarborough', 'Neighborhood': 'Malvern, Rouge'}, {'PostalCode': 'M3B', 'Borough': 'North York', 'Neighborhood': 'Don Mills North'}, {'PostalCode': 'M4B', 'Borough': 'East York', 'Neighborhood': 'Parkview Hill, Woodbine Gardens'}, {'PostalCode': 'M5B', 'Borough': 'Downtown Toronto', 'Neighborhood': 'Garden District, Ryerson'}, {'PostalCode': 'M6B', 'Borough': 'North York', 'Neighborhood': 'Glencairn'}, {'PostalCode': 'M9B', 'Borough': 'Etobicoke', 'Neighborhood': 'West Deane Park, Princess Gardens, Martin Grove, Islington, Cloverdale'}, {'PostalCode': 'M1C', 'Borough': 'Scarborough', 'Neighborhood': 'Rouge Hill, Port Union, Highland Creek'}, {'PostalCode': 'M3C', 'Borough': 'North York', 'Neighborhood': 'Don Mills South'}, {'PostalCode': 'M4C', 'Borough': 'East York', 'Neighborhood': 'Woodbine Heights'}, {'PostalCode': 'M5C', 'Borough': 'Downtown Toronto', 'Neighborhood': 'St. James Town'}, {'PostalCode': 'M6C', 'Borough': 'York', 'Neighborhood': 'Humewood-Cedarvale'}, {'PostalCode': 'M9C', 'Borough': 'Etobicoke', 'Neighborhood': 'Eringate, Bloordale Gardens, Old Burnhamthorpe, Markland Wood'}, {'PostalCode': 'M1E', 'Borough': 'Scarborough', 'Neighborhood': 'Guildwood, Morningside, West Hill'}, {'PostalCode': 'M4E', 'Borough': 'East Toronto', 'Neighborhood': 'The Beaches'}, {'PostalCode': 'M5E', 'Borough': 'Downtown Toronto', 'Neighborhood': 'Berczy Park'}, {'PostalCode': 'M6E', 'Borough': 'York', 'Neighborhood': 'Caledonia-Fairbanks'}, {'PostalCode': 'M1G', 'Borough': 'Scarborough', 'Neighborhood': 'Woburn'}, {'PostalCode': 'M4G', 'Borough': 'East York', 'Neighborhood': 'Leaside'}, {'PostalCode': 'M5G', 'Borough': 'Downtown Toronto', 'Neighborhood': 'Central Bay Street'}, {'PostalCode': 'M6G', 'Borough': 'Downtown Toronto', 'Neighborhood': 'Christie'}, {'PostalCode': 'M1H', 'Borough': 'Scarborough', 'Neighborhood': 'Cedarbrae'}, {'PostalCode': 'M2H', 'Borough': 'North York', 'Neighborhood': 'Hillcrest Village'}, {'PostalCode': 'M3H', 'Borough': 'North York', 'Neighborhood': 'Bathurst Manor, Wilson Heights, Downsview North'}, {'PostalCode': 'M4H', 'Borough': 'East York', 'Neighborhood': 'Thorncliffe Park'}, {'PostalCode': 'M5H', 'Borough': 'Downtown Toronto', 'Neighborhood': 'Richmond, Adelaide, King'}, {'PostalCode': 'M6H', 'Borough': 'West Toronto', 'Neighborhood': 'Dufferin, Dovercourt Village'}, {'PostalCode': 'M1J', 'Borough': 'Scarborough', 'Neighborhood': 'Scarborough Village'}, {'PostalCode': 'M2J', 'Borough': 'North York', 'Neighborhood': 'Fairview, Henry Farm, Oriole'}, {'PostalCode': 'M3J', 'Borough': 'North York', 'Neighborhood': 'Northwood Park, York University'}, {'PostalCode': 'M4J', 'Borough': 'East YorkEast Toronto', 'Neighborhood': 'The Danforth  East'}, {'PostalCode': 'M5J', 'Borough': 'Downtown Toronto', 'Neighborhood': 'Harbourfront East, Union Station, Toronto Islands'}, {'PostalCode': 'M6J', 'Borough': 'West Toronto', 'Neighborhood': 'Little Portugal, Trinity'}, {'PostalCode': 'M1K', 'Borough': 'Scarborough', 'Neighborhood': 'Kennedy Park, Ionview, East Birchmount Park'}, {'PostalCode': 'M2K', 'Borough': 'North York', 'Neighborhood': 'Bayview Village'}, {'PostalCode': 'M3K', 'Borough': 'North York', 'Neighborhood': 'Downsview East'}, {'PostalCode': 'M4K', 'Borough': 'East Toronto', 'Neighborhood': 'The Danforth West, Riverdale'}, {'PostalCode': 'M5K', 'Borough': 'Downtown Toronto', 'Neighborhood': 'Toronto Dominion Centre, Design Exchange'}, {'PostalCode': 'M6K', 'Borough': 'West Toronto', 'Neighborhood': 'Brockton, Parkdale Village, Exhibition Place'}, {'PostalCode': 'M1L', 'Borough': 'Scarborough', 'Neighborhood': 'Golden Mile, Clairlea, Oakridge'}, {'PostalCode': 'M2L', 'Borough': 'North York', 'Neighborhood': 'York Mills, Silver Hills'}, {'PostalCode': 'M3L', 'Borough': 'North York', 'Neighborhood': 'Downsview West'}, {'PostalCode': 'M4L', 'Borough': 'East Toronto', 'Neighborhood': 'India Bazaar, The Beaches West'}, {'PostalCode': 'M5L', 'Borough': 'Downtown Toronto', 'Neighborhood': 'Commerce Court, Victoria Hotel'}, {'PostalCode': 'M6L', 'Borough': 'North York', 'Neighborhood': 'North Park, Maple Leaf Park, Upwood Park'}, {'PostalCode': 'M9L', 'Borough': 'North York', 'Neighborhood': 'Humber Summit'}, {'PostalCode': 'M1M', 'Borough': 'Scarborough', 'Neighborhood': 'Cliffside, Cliffcrest, Scarborough Village West'}, {'PostalCode': 'M2M', 'Borough': 'North York', 'Neighborhood': 'Willowdale, Newtonbrook'}, {'PostalCode': 'M3M', 'Borough': 'North York', 'Neighborhood': 'Downsview Central'}, {'PostalCode': 'M4M', 'Borough': 'East Toronto', 'Neighborhood': 'Studio District'}, {'PostalCode': 'M5M', 'Borough': 'North York', 'Neighborhood': 'Bedford Park, Lawrence Manor East'}, {'PostalCode': 'M6M', 'Borough': 'York', 'Neighborhood': 'Del Ray, Mount Dennis, Keelsdale and Silverthorn'}, {'PostalCode': 'M9M', 'Borough': 'North York', 'Neighborhood': 'Humberlea, Emery'}, {'PostalCode': 'M1N', 'Borough': 'Scarborough', 'Neighborhood': 'Birch Cliff, Cliffside West'}, {'PostalCode': 'M2N', 'Borough': 'North York', 'Neighborhood': 'Willowdale South'}, {'PostalCode': 'M3N', 'Borough': 'North York', 'Neighborhood': 'Downsview Northwest'}, {'PostalCode': 'M4N', 'Borough': 'Central Toronto', 'Neighborhood': 'Lawrence Park'}, {'PostalCode': 'M5N', 'Borough': 'Central Toronto', 'Neighborhood': 'Roselawn'}, {'PostalCode': 'M6N', 'Borough': 'York', 'Neighborhood': 'Runnymede, The Junction North'}, {'PostalCode': 'M9N', 'Borough': 'York', 'Neighborhood': 'Weston'}, {'PostalCode': 'M1P', 'Borough': 'Scarborough', 'Neighborhood': 'Dorset Park, Wexford Heights, Scarborough Town Centre'}, {'PostalCode': 'M2P', 'Borough': 'North York', 'Neighborhood': 'York Mills West'}, {'PostalCode': 'M4P', 'Borough': 'Central Toronto', 'Neighborhood': 'Davisville North'}, {'PostalCode': 'M5P', 'Borough': 'Central Toronto', 'Neighborhood': 'Forest Hill North & West'}, {'PostalCode': 'M6P', 'Borough': 'West Toronto', 'Neighborhood': 'High Park, The Junction South'}, {'PostalCode': 'M9P', 'Borough': 'Etobicoke', 'Neighborhood': 'Westmount'}, {'PostalCode': 'M1R', 'Borough': 'Scarborough', 'Neighborhood': 'Wexford, Maryvale'}, {'PostalCode': 'M2R', 'Borough': 'North York', 'Neighborhood': 'Willowdale West'}, {'PostalCode': 'M4R', 'Borough': 'Central Toronto', 'Neighborhood': 'North Toronto West'}, {'PostalCode': 'M5R', 'Borough': 'Central Toronto', 'Neighborhood': 'The Annex, North Midtown, Yorkville'}, {'PostalCode': 'M6R', 'Borough': 'West Toronto', 'Neighborhood': 'Parkdale, Roncesvalles'}, {'PostalCode': 'M7R', 'Borough': 'MississaugaCanada Post Gateway Processing Centre', 'Neighborhood': 'Enclave of L4W'}, {'PostalCode': 'M9R', 'Borough': 'Etobicoke', 'Neighborhood': 'Kingsview Village, St. Phillips, Martin Grove Gardens, Richview Gardens'}, {'PostalCode': 'M1S', 'Borough': 'Scarborough', 'Neighborhood': 'Agincourt'}, {'PostalCode': 'M4S', 'Borough': 'Central Toronto', 'Neighborhood': 'Davisville'}, {'PostalCode': 'M5S', 'Borough': 'Downtown Toronto', 'Neighborhood': 'University of Toronto, Harbord'}, {'PostalCode': 'M6S', 'Borough': 'West Toronto', 'Neighborhood': 'Runnymede, Swansea'}, {'PostalCode': 'M1T', 'Borough': 'Scarborough', 'Neighborhood': \"Clarks Corners, Tam O'Shanter, Sullivan\"}, {'PostalCode': 'M4T', 'Borough': 'Central Toronto', 'Neighborhood': 'Moore Park, Summerhill East'}, {'PostalCode': 'M5T', 'Borough': 'Downtown Toronto', 'Neighborhood': 'Kensington Market, Chinatown, Grange Park'}, {'PostalCode': 'M1V', 'Borough': 'Scarborough', 'Neighborhood': \"Milliken, Agincourt North, Steeles East, L'Amoreaux East\"}, {'PostalCode': 'M4V', 'Borough': 'Central Toronto', 'Neighborhood': 'Summerhill West, Rathnelly, South Hill, Forest Hill SE, Deer Park'}, {'PostalCode': 'M5V', 'Borough': 'Downtown Toronto', 'Neighborhood': 'CN Tower, King and Spadina, Railway Lands, Harbourfront West, Bathurst Quay, South Niagara, Island airport'}, {'PostalCode': 'M8V', 'Borough': 'Etobicoke', 'Neighborhood': 'New Toronto, Mimico South, Humber Bay Shores'}, {'PostalCode': 'M9V', 'Borough': 'Etobicoke', 'Neighborhood': 'South Steeles, Silverstone, Humbergate, Jamestown, Mount Olive, Beaumond Heights, Thistletown, Albion Gardens'}, {'PostalCode': 'M1W', 'Borough': 'Scarborough', 'Neighborhood': \"Steeles West, L'Amoreaux West\"}, {'PostalCode': 'M4W', 'Borough': 'Downtown Toronto', 'Neighborhood': 'Rosedale'}, {'PostalCode': 'M5W', 'Borough': 'Downtown TorontoStn A PO Boxes25 The Esplanade', 'Neighborhood': 'Enclave of M5E'}, {'PostalCode': 'M8W', 'Borough': 'Etobicoke', 'Neighborhood': 'Alderwood, Long Branch'}, {'PostalCode': 'M9W', 'Borough': 'EtobicokeNorthwest', 'Neighborhood': 'Clairville, Humberwood, Woodbine Downs, West Humber, Kipling Heights, Rexdale, Elms, Tandridge, Old Rexdale'}, {'PostalCode': 'M1X', 'Borough': 'Scarborough', 'Neighborhood': 'Upper Rouge'}, {'PostalCode': 'M4X', 'Borough': 'Downtown Toronto', 'Neighborhood': 'St. James Town, Cabbagetown'}, {'PostalCode': 'M5X', 'Borough': 'Downtown Toronto', 'Neighborhood': 'First Canadian Place, Underground city'}, {'PostalCode': 'M8X', 'Borough': 'Etobicoke', 'Neighborhood': 'The Kingsway, Montgomery Road, Old Mill North'}, {'PostalCode': 'M4Y', 'Borough': 'Downtown Toronto', 'Neighborhood': 'Church and Wellesley'}, {'PostalCode': 'M7Y', 'Borough': 'East TorontoBusiness reply mail Processing Centre969 Eastern', 'Neighborhood': 'Enclave of M4L'}, {'PostalCode': 'M8Y', 'Borough': 'Etobicoke', 'Neighborhood': \"Old Mill South, King's Mill Park, Sunnylea, Humber Bay, Mimico NE, The Queensway East, Royal York South East, Kingsway Park South East\"}, {'PostalCode': 'M8Z', 'Borough': 'Etobicoke', 'Neighborhood': 'Mimico NW, The Queensway West, South of Bloor, Kingsway Park South West, Royal York South West'}]\n"
          ],
          "name": "stdout"
        }
      ]
    },
    {
      "cell_type": "markdown",
      "metadata": {
        "id": "qmUNXkXcdOw3"
      },
      "source": [
        "Create a DataFrame"
      ]
    },
    {
      "cell_type": "code",
      "metadata": {
        "colab": {
          "base_uri": "https://localhost:8080/",
          "height": 204
        },
        "id": "fY0zZDlMbCi9",
        "outputId": "7d28b3e5-e71d-4b7e-c517-c66e5dd1c507"
      },
      "source": [
        "#create dataframe from table\n",
        "df = pd.DataFrame(table_contents)\n",
        "df.head()"
      ],
      "execution_count": 35,
      "outputs": [
        {
          "output_type": "execute_result",
          "data": {
            "text/html": [
              "<div>\n",
              "<style scoped>\n",
              "    .dataframe tbody tr th:only-of-type {\n",
              "        vertical-align: middle;\n",
              "    }\n",
              "\n",
              "    .dataframe tbody tr th {\n",
              "        vertical-align: top;\n",
              "    }\n",
              "\n",
              "    .dataframe thead th {\n",
              "        text-align: right;\n",
              "    }\n",
              "</style>\n",
              "<table border=\"1\" class=\"dataframe\">\n",
              "  <thead>\n",
              "    <tr style=\"text-align: right;\">\n",
              "      <th></th>\n",
              "      <th>PostalCode</th>\n",
              "      <th>Borough</th>\n",
              "      <th>Neighborhood</th>\n",
              "    </tr>\n",
              "  </thead>\n",
              "  <tbody>\n",
              "    <tr>\n",
              "      <th>0</th>\n",
              "      <td>M3A</td>\n",
              "      <td>North York</td>\n",
              "      <td>Parkwoods</td>\n",
              "    </tr>\n",
              "    <tr>\n",
              "      <th>1</th>\n",
              "      <td>M4A</td>\n",
              "      <td>North York</td>\n",
              "      <td>Victoria Village</td>\n",
              "    </tr>\n",
              "    <tr>\n",
              "      <th>2</th>\n",
              "      <td>M5A</td>\n",
              "      <td>Downtown Toronto</td>\n",
              "      <td>Regent Park, Harbourfront</td>\n",
              "    </tr>\n",
              "    <tr>\n",
              "      <th>3</th>\n",
              "      <td>M6A</td>\n",
              "      <td>North York</td>\n",
              "      <td>Lawrence Manor, Lawrence Heights</td>\n",
              "    </tr>\n",
              "    <tr>\n",
              "      <th>4</th>\n",
              "      <td>M7A</td>\n",
              "      <td>Queen's Park</td>\n",
              "      <td>Ontario Provincial Government</td>\n",
              "    </tr>\n",
              "  </tbody>\n",
              "</table>\n",
              "</div>"
            ],
            "text/plain": [
              "  PostalCode           Borough                      Neighborhood\n",
              "0        M3A        North York                         Parkwoods\n",
              "1        M4A        North York                  Victoria Village\n",
              "2        M5A  Downtown Toronto         Regent Park, Harbourfront\n",
              "3        M6A        North York  Lawrence Manor, Lawrence Heights\n",
              "4        M7A      Queen's Park     Ontario Provincial Government"
            ]
          },
          "metadata": {
            "tags": []
          },
          "execution_count": 35
        }
      ]
    },
    {
      "cell_type": "markdown",
      "metadata": {
        "id": "69jZtszBdS4R"
      },
      "source": [
        "Do a little data cleaning"
      ]
    },
    {
      "cell_type": "code",
      "metadata": {
        "id": "BLU8EhZqYg14"
      },
      "source": [
        "df['Borough']=df['Borough'].replace({'Downtown TorontoStn A PO Boxes25 The Esplanade':'Downtown Toronto Stn A',\n",
        "                                             'East TorontoBusiness reply mail Processing Centre969 Eastern':'East Toronto Business',\n",
        "                                             'EtobicokeNorthwest':'Etobicoke Northwest','East YorkEast Toronto':'East York/East Toronto',\n",
        "                                             'MississaugaCanada Post Gateway Processing Centre':'Mississauga'})"
      ],
      "execution_count": 36,
      "outputs": []
    },
    {
      "cell_type": "markdown",
      "metadata": {
        "id": "ccdwm3ysdYi1"
      },
      "source": [
        "Get shape of DataFrame"
      ]
    },
    {
      "cell_type": "code",
      "metadata": {
        "colab": {
          "base_uri": "https://localhost:8080/"
        },
        "id": "4vlazioGcJxX",
        "outputId": "b8cca675-3727-4fea-aeaf-7a7b17adf310"
      },
      "source": [
        "df.shape"
      ],
      "execution_count": 39,
      "outputs": [
        {
          "output_type": "execute_result",
          "data": {
            "text/plain": [
              "(103, 3)"
            ]
          },
          "metadata": {
            "tags": []
          },
          "execution_count": 39
        }
      ]
    },
    {
      "cell_type": "markdown",
      "metadata": {
        "id": "u65cY5AUfXyu"
      },
      "source": [
        "## Load coordinates from CSV file and merge the two tables"
      ]
    },
    {
      "cell_type": "code",
      "metadata": {
        "colab": {
          "base_uri": "https://localhost:8080/",
          "height": 204
        },
        "id": "S5QuN_vvdbJU",
        "outputId": "6d39ef2a-627b-4e4a-fe37-236fee9785d5"
      },
      "source": [
        "#load data from csv \n",
        "coordinates = pd.read_csv('/content/drive/MyDrive/Colab Notebooks/Geospatial_Coordinates.csv')\n",
        "coordinates.head()"
      ],
      "execution_count": 42,
      "outputs": [
        {
          "output_type": "execute_result",
          "data": {
            "text/html": [
              "<div>\n",
              "<style scoped>\n",
              "    .dataframe tbody tr th:only-of-type {\n",
              "        vertical-align: middle;\n",
              "    }\n",
              "\n",
              "    .dataframe tbody tr th {\n",
              "        vertical-align: top;\n",
              "    }\n",
              "\n",
              "    .dataframe thead th {\n",
              "        text-align: right;\n",
              "    }\n",
              "</style>\n",
              "<table border=\"1\" class=\"dataframe\">\n",
              "  <thead>\n",
              "    <tr style=\"text-align: right;\">\n",
              "      <th></th>\n",
              "      <th>Postal Code</th>\n",
              "      <th>Latitude</th>\n",
              "      <th>Longitude</th>\n",
              "    </tr>\n",
              "  </thead>\n",
              "  <tbody>\n",
              "    <tr>\n",
              "      <th>0</th>\n",
              "      <td>M1B</td>\n",
              "      <td>43.806686</td>\n",
              "      <td>-79.194353</td>\n",
              "    </tr>\n",
              "    <tr>\n",
              "      <th>1</th>\n",
              "      <td>M1C</td>\n",
              "      <td>43.784535</td>\n",
              "      <td>-79.160497</td>\n",
              "    </tr>\n",
              "    <tr>\n",
              "      <th>2</th>\n",
              "      <td>M1E</td>\n",
              "      <td>43.763573</td>\n",
              "      <td>-79.188711</td>\n",
              "    </tr>\n",
              "    <tr>\n",
              "      <th>3</th>\n",
              "      <td>M1G</td>\n",
              "      <td>43.770992</td>\n",
              "      <td>-79.216917</td>\n",
              "    </tr>\n",
              "    <tr>\n",
              "      <th>4</th>\n",
              "      <td>M1H</td>\n",
              "      <td>43.773136</td>\n",
              "      <td>-79.239476</td>\n",
              "    </tr>\n",
              "  </tbody>\n",
              "</table>\n",
              "</div>"
            ],
            "text/plain": [
              "  Postal Code   Latitude  Longitude\n",
              "0         M1B  43.806686 -79.194353\n",
              "1         M1C  43.784535 -79.160497\n",
              "2         M1E  43.763573 -79.188711\n",
              "3         M1G  43.770992 -79.216917\n",
              "4         M1H  43.773136 -79.239476"
            ]
          },
          "metadata": {
            "tags": []
          },
          "execution_count": 42
        }
      ]
    },
    {
      "cell_type": "code",
      "metadata": {
        "colab": {
          "base_uri": "https://localhost:8080/",
          "height": 204
        },
        "id": "y8uM_JWee4pX",
        "outputId": "1cedf4d4-1d68-4ed4-f7de-893a30eff41b"
      },
      "source": [
        "# rename the column \"PostalCode\"\n",
        "coordinates.rename(columns={\"Postal Code\": \"PostalCode\"}, inplace=True)\n",
        "coordinates.head()"
      ],
      "execution_count": 43,
      "outputs": [
        {
          "output_type": "execute_result",
          "data": {
            "text/html": [
              "<div>\n",
              "<style scoped>\n",
              "    .dataframe tbody tr th:only-of-type {\n",
              "        vertical-align: middle;\n",
              "    }\n",
              "\n",
              "    .dataframe tbody tr th {\n",
              "        vertical-align: top;\n",
              "    }\n",
              "\n",
              "    .dataframe thead th {\n",
              "        text-align: right;\n",
              "    }\n",
              "</style>\n",
              "<table border=\"1\" class=\"dataframe\">\n",
              "  <thead>\n",
              "    <tr style=\"text-align: right;\">\n",
              "      <th></th>\n",
              "      <th>PostalCode</th>\n",
              "      <th>Latitude</th>\n",
              "      <th>Longitude</th>\n",
              "    </tr>\n",
              "  </thead>\n",
              "  <tbody>\n",
              "    <tr>\n",
              "      <th>0</th>\n",
              "      <td>M1B</td>\n",
              "      <td>43.806686</td>\n",
              "      <td>-79.194353</td>\n",
              "    </tr>\n",
              "    <tr>\n",
              "      <th>1</th>\n",
              "      <td>M1C</td>\n",
              "      <td>43.784535</td>\n",
              "      <td>-79.160497</td>\n",
              "    </tr>\n",
              "    <tr>\n",
              "      <th>2</th>\n",
              "      <td>M1E</td>\n",
              "      <td>43.763573</td>\n",
              "      <td>-79.188711</td>\n",
              "    </tr>\n",
              "    <tr>\n",
              "      <th>3</th>\n",
              "      <td>M1G</td>\n",
              "      <td>43.770992</td>\n",
              "      <td>-79.216917</td>\n",
              "    </tr>\n",
              "    <tr>\n",
              "      <th>4</th>\n",
              "      <td>M1H</td>\n",
              "      <td>43.773136</td>\n",
              "      <td>-79.239476</td>\n",
              "    </tr>\n",
              "  </tbody>\n",
              "</table>\n",
              "</div>"
            ],
            "text/plain": [
              "  PostalCode   Latitude  Longitude\n",
              "0        M1B  43.806686 -79.194353\n",
              "1        M1C  43.784535 -79.160497\n",
              "2        M1E  43.763573 -79.188711\n",
              "3        M1G  43.770992 -79.216917\n",
              "4        M1H  43.773136 -79.239476"
            ]
          },
          "metadata": {
            "tags": []
          },
          "execution_count": 43
        }
      ]
    },
    {
      "cell_type": "code",
      "metadata": {
        "colab": {
          "base_uri": "https://localhost:8080/",
          "height": 204
        },
        "id": "tHfu5BhvfvK1",
        "outputId": "96a3dd2f-0283-4f72-c649-b7468f0ddf29"
      },
      "source": [
        "#merge tables \n",
        "toronto_df = df.merge(coordinates, on=\"PostalCode\", how=\"left\")\n",
        "toronto_df.head()"
      ],
      "execution_count": 45,
      "outputs": [
        {
          "output_type": "execute_result",
          "data": {
            "text/html": [
              "<div>\n",
              "<style scoped>\n",
              "    .dataframe tbody tr th:only-of-type {\n",
              "        vertical-align: middle;\n",
              "    }\n",
              "\n",
              "    .dataframe tbody tr th {\n",
              "        vertical-align: top;\n",
              "    }\n",
              "\n",
              "    .dataframe thead th {\n",
              "        text-align: right;\n",
              "    }\n",
              "</style>\n",
              "<table border=\"1\" class=\"dataframe\">\n",
              "  <thead>\n",
              "    <tr style=\"text-align: right;\">\n",
              "      <th></th>\n",
              "      <th>PostalCode</th>\n",
              "      <th>Borough</th>\n",
              "      <th>Neighborhood</th>\n",
              "      <th>Latitude</th>\n",
              "      <th>Longitude</th>\n",
              "    </tr>\n",
              "  </thead>\n",
              "  <tbody>\n",
              "    <tr>\n",
              "      <th>0</th>\n",
              "      <td>M3A</td>\n",
              "      <td>North York</td>\n",
              "      <td>Parkwoods</td>\n",
              "      <td>43.753259</td>\n",
              "      <td>-79.329656</td>\n",
              "    </tr>\n",
              "    <tr>\n",
              "      <th>1</th>\n",
              "      <td>M4A</td>\n",
              "      <td>North York</td>\n",
              "      <td>Victoria Village</td>\n",
              "      <td>43.725882</td>\n",
              "      <td>-79.315572</td>\n",
              "    </tr>\n",
              "    <tr>\n",
              "      <th>2</th>\n",
              "      <td>M5A</td>\n",
              "      <td>Downtown Toronto</td>\n",
              "      <td>Regent Park, Harbourfront</td>\n",
              "      <td>43.654260</td>\n",
              "      <td>-79.360636</td>\n",
              "    </tr>\n",
              "    <tr>\n",
              "      <th>3</th>\n",
              "      <td>M6A</td>\n",
              "      <td>North York</td>\n",
              "      <td>Lawrence Manor, Lawrence Heights</td>\n",
              "      <td>43.718518</td>\n",
              "      <td>-79.464763</td>\n",
              "    </tr>\n",
              "    <tr>\n",
              "      <th>4</th>\n",
              "      <td>M7A</td>\n",
              "      <td>Queen's Park</td>\n",
              "      <td>Ontario Provincial Government</td>\n",
              "      <td>43.662301</td>\n",
              "      <td>-79.389494</td>\n",
              "    </tr>\n",
              "  </tbody>\n",
              "</table>\n",
              "</div>"
            ],
            "text/plain": [
              "  PostalCode           Borough                      Neighborhood   Latitude  \\\n",
              "0        M3A        North York                         Parkwoods  43.753259   \n",
              "1        M4A        North York                  Victoria Village  43.725882   \n",
              "2        M5A  Downtown Toronto         Regent Park, Harbourfront  43.654260   \n",
              "3        M6A        North York  Lawrence Manor, Lawrence Heights  43.718518   \n",
              "4        M7A      Queen's Park     Ontario Provincial Government  43.662301   \n",
              "\n",
              "   Longitude  \n",
              "0 -79.329656  \n",
              "1 -79.315572  \n",
              "2 -79.360636  \n",
              "3 -79.464763  \n",
              "4 -79.389494  "
            ]
          },
          "metadata": {
            "tags": []
          },
          "execution_count": 45
        }
      ]
    },
    {
      "cell_type": "code",
      "metadata": {
        "id": "YjI-cmcuf0ZV"
      },
      "source": [
        ""
      ],
      "execution_count": null,
      "outputs": []
    }
  ]
}